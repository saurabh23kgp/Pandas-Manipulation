{
  "nbformat": 4,
  "nbformat_minor": 0,
  "metadata": {
    "colab": {
      "name": "Groupby",
      "provenance": []
    },
    "kernelspec": {
      "name": "python3",
      "display_name": "Python 3"
    }
  },
  "cells": [
    {
      "cell_type": "markdown",
      "metadata": {
        "id": "J5u9STEweN2G",
        "colab_type": "text"
      },
      "source": [
        "This tutorial is about groupby method for pandas dataframes"
      ]
    },
    {
      "cell_type": "code",
      "metadata": {
        "id": "5AgqP8uLd0Fz",
        "colab_type": "code",
        "colab": {}
      },
      "source": [
        "import numpy as np\n",
        "import pandas as pd"
      ],
      "execution_count": 1,
      "outputs": []
    },
    {
      "cell_type": "markdown",
      "metadata": {
        "id": "7vkqTztFeCZs",
        "colab_type": "text"
      },
      "source": [
        "Make a dummy pandas data frame "
      ]
    },
    {
      "cell_type": "code",
      "metadata": {
        "id": "4WQyMPoKd5Fj",
        "colab_type": "code",
        "colab": {}
      },
      "source": [
        "df = pd.DataFrame([[1.1, 1.1, 1.1, 2.6, 2.5, 3.4,2.6,2.6,3.4,3.4,2.6,1.1,1.1,3.3], list('AAABBBBABCBDDD'), [1.1, 1.7, 2.5, 2.6, 3.3, 3.8,4.0,4.2,4.3,4.5,4.6,4.7,4.7,4.8], ['x/y/z','x/y','x/y/z/n','x/u','x','x/u/v','x/y/z','x','x/u/v/b','-','x/y','x/y/z','x','x/u/v/w'],['1','3','3','2','4','2','5','3','6','3','5','1','1','1']]).T\n",
        "df.columns = ['col1','col2','col3','col4','col5']\n",
        "\n",
        "\n",
        "# this dummy dataframe is taken from \"https://stackoverflow.com/questions/17679089/pandas-dataframe-groupby-two-columns-and-get-counts\". \n",
        "\n",
        "#I decided to extend all the possible concepts discussed in the above thread after playing around a little bit with this dataset\n"
      ],
      "execution_count": 2,
      "outputs": []
    },
    {
      "cell_type": "code",
      "metadata": {
        "id": "c5rLBHX8ezVi",
        "colab_type": "code",
        "colab": {
          "base_uri": "https://localhost:8080/",
          "height": 483
        },
        "outputId": "addcfc8a-ca40-4eb5-c84c-92772f0050bc"
      },
      "source": [
        "df #observing the original dataframe"
      ],
      "execution_count": 3,
      "outputs": [
        {
          "output_type": "execute_result",
          "data": {
            "text/html": [
              "<div>\n",
              "<style scoped>\n",
              "    .dataframe tbody tr th:only-of-type {\n",
              "        vertical-align: middle;\n",
              "    }\n",
              "\n",
              "    .dataframe tbody tr th {\n",
              "        vertical-align: top;\n",
              "    }\n",
              "\n",
              "    .dataframe thead th {\n",
              "        text-align: right;\n",
              "    }\n",
              "</style>\n",
              "<table border=\"1\" class=\"dataframe\">\n",
              "  <thead>\n",
              "    <tr style=\"text-align: right;\">\n",
              "      <th></th>\n",
              "      <th>col1</th>\n",
              "      <th>col2</th>\n",
              "      <th>col3</th>\n",
              "      <th>col4</th>\n",
              "      <th>col5</th>\n",
              "    </tr>\n",
              "  </thead>\n",
              "  <tbody>\n",
              "    <tr>\n",
              "      <th>0</th>\n",
              "      <td>1.1</td>\n",
              "      <td>A</td>\n",
              "      <td>1.1</td>\n",
              "      <td>x/y/z</td>\n",
              "      <td>1</td>\n",
              "    </tr>\n",
              "    <tr>\n",
              "      <th>1</th>\n",
              "      <td>1.1</td>\n",
              "      <td>A</td>\n",
              "      <td>1.7</td>\n",
              "      <td>x/y</td>\n",
              "      <td>3</td>\n",
              "    </tr>\n",
              "    <tr>\n",
              "      <th>2</th>\n",
              "      <td>1.1</td>\n",
              "      <td>A</td>\n",
              "      <td>2.5</td>\n",
              "      <td>x/y/z/n</td>\n",
              "      <td>3</td>\n",
              "    </tr>\n",
              "    <tr>\n",
              "      <th>3</th>\n",
              "      <td>2.6</td>\n",
              "      <td>B</td>\n",
              "      <td>2.6</td>\n",
              "      <td>x/u</td>\n",
              "      <td>2</td>\n",
              "    </tr>\n",
              "    <tr>\n",
              "      <th>4</th>\n",
              "      <td>2.5</td>\n",
              "      <td>B</td>\n",
              "      <td>3.3</td>\n",
              "      <td>x</td>\n",
              "      <td>4</td>\n",
              "    </tr>\n",
              "    <tr>\n",
              "      <th>5</th>\n",
              "      <td>3.4</td>\n",
              "      <td>B</td>\n",
              "      <td>3.8</td>\n",
              "      <td>x/u/v</td>\n",
              "      <td>2</td>\n",
              "    </tr>\n",
              "    <tr>\n",
              "      <th>6</th>\n",
              "      <td>2.6</td>\n",
              "      <td>B</td>\n",
              "      <td>4</td>\n",
              "      <td>x/y/z</td>\n",
              "      <td>5</td>\n",
              "    </tr>\n",
              "    <tr>\n",
              "      <th>7</th>\n",
              "      <td>2.6</td>\n",
              "      <td>A</td>\n",
              "      <td>4.2</td>\n",
              "      <td>x</td>\n",
              "      <td>3</td>\n",
              "    </tr>\n",
              "    <tr>\n",
              "      <th>8</th>\n",
              "      <td>3.4</td>\n",
              "      <td>B</td>\n",
              "      <td>4.3</td>\n",
              "      <td>x/u/v/b</td>\n",
              "      <td>6</td>\n",
              "    </tr>\n",
              "    <tr>\n",
              "      <th>9</th>\n",
              "      <td>3.4</td>\n",
              "      <td>C</td>\n",
              "      <td>4.5</td>\n",
              "      <td>-</td>\n",
              "      <td>3</td>\n",
              "    </tr>\n",
              "    <tr>\n",
              "      <th>10</th>\n",
              "      <td>2.6</td>\n",
              "      <td>B</td>\n",
              "      <td>4.6</td>\n",
              "      <td>x/y</td>\n",
              "      <td>5</td>\n",
              "    </tr>\n",
              "    <tr>\n",
              "      <th>11</th>\n",
              "      <td>1.1</td>\n",
              "      <td>D</td>\n",
              "      <td>4.7</td>\n",
              "      <td>x/y/z</td>\n",
              "      <td>1</td>\n",
              "    </tr>\n",
              "    <tr>\n",
              "      <th>12</th>\n",
              "      <td>1.1</td>\n",
              "      <td>D</td>\n",
              "      <td>4.7</td>\n",
              "      <td>x</td>\n",
              "      <td>1</td>\n",
              "    </tr>\n",
              "    <tr>\n",
              "      <th>13</th>\n",
              "      <td>3.3</td>\n",
              "      <td>D</td>\n",
              "      <td>4.8</td>\n",
              "      <td>x/u/v/w</td>\n",
              "      <td>1</td>\n",
              "    </tr>\n",
              "  </tbody>\n",
              "</table>\n",
              "</div>"
            ],
            "text/plain": [
              "   col1 col2 col3     col4 col5\n",
              "0   1.1    A  1.1    x/y/z    1\n",
              "1   1.1    A  1.7      x/y    3\n",
              "2   1.1    A  2.5  x/y/z/n    3\n",
              "3   2.6    B  2.6      x/u    2\n",
              "4   2.5    B  3.3        x    4\n",
              "5   3.4    B  3.8    x/u/v    2\n",
              "6   2.6    B    4    x/y/z    5\n",
              "7   2.6    A  4.2        x    3\n",
              "8   3.4    B  4.3  x/u/v/b    6\n",
              "9   3.4    C  4.5        -    3\n",
              "10  2.6    B  4.6      x/y    5\n",
              "11  1.1    D  4.7    x/y/z    1\n",
              "12  1.1    D  4.7        x    1\n",
              "13  3.3    D  4.8  x/u/v/w    1"
            ]
          },
          "metadata": {
            "tags": []
          },
          "execution_count": 3
        }
      ]
    },
    {
      "cell_type": "code",
      "metadata": {
        "id": "68q5vyESfBWs",
        "colab_type": "code",
        "colab": {}
      },
      "source": [
        "#Lets first make a grupbyobject by grouping on only col2\n",
        "\n",
        "ds=df.groupby('col2')"
      ],
      "execution_count": 5,
      "outputs": []
    },
    {
      "cell_type": "code",
      "metadata": {
        "id": "w4V5kWHCfOH0",
        "colab_type": "code",
        "colab": {
          "base_uri": "https://localhost:8080/",
          "height": 34
        },
        "outputId": "cdb67d2a-7cc8-43ff-f428-c361dc1141be"
      },
      "source": [
        "#Now, ds is a groupby object and we cannot use it like a simple pandas dataframe\n",
        "print(ds)"
      ],
      "execution_count": 7,
      "outputs": [
        {
          "output_type": "stream",
          "text": [
            "<pandas.core.groupby.generic.DataFrameGroupBy object at 0x7f79ff05c5f8>\n"
          ],
          "name": "stdout"
        }
      ]
    },
    {
      "cell_type": "code",
      "metadata": {
        "id": "Uuajrwq3fe44",
        "colab_type": "code",
        "colab": {
          "base_uri": "https://localhost:8080/",
          "height": 714
        },
        "outputId": "24a17f87-60be-473e-b9b3-6732bd746618"
      },
      "source": [
        "#So how to access the groups and the keys?\n",
        "\n",
        "#we an use either get_group() method for ds groupby object(for this we would want to know the key values beforehand) or use a for loop. Both the methods are shown below\n",
        "\n",
        "\n",
        "#get_group() method first\n",
        "\n",
        "#how to get the keys?\n",
        "print(ds.groups.keys(), '\\n\\n')\n",
        "\n",
        "#now that we have the keys, we can use get_group method to access the individual dataframes associated with these keys\n",
        "\n",
        "print(ds.get_group('A'))\n",
        "print(\"\\n\\n\")\n",
        "print(\"Data type of ds.get_group('A') is:-\",  type(ds.get_group('A')))\n",
        "\n",
        "#observe that the data type of ds.get_group('A') is pandas dataframe!!\n",
        "#also, observe that the index of dataframe corresponding to key 'A' are same as index of original rows corresponding to 'A' key\n",
        "#upon using the reset_index() method, we see that an additional column with name 'index' is created\n",
        "#we can remove that with drop() method of pandas dataframe\n",
        "\n",
        "print('\\n\\n')\n",
        "\n",
        "print(\"Using the same indices as the original dataframe for rows corresponding to key 'A':-\\n\")\n",
        "print(ds.get_group('A'))\n",
        "print(\"\\n\\n\")\n",
        "print(\"After using the reset_index() method, new column 'index' being created:-\\n\")\n",
        "print(ds.get_group('A').reset_index(),\"\\n\\n\")\n",
        "print(\"Drop this new 'index' column with:-\\n \")\n",
        "print(ds.get_group('A').reset_index().drop(['index'],axis=1))\n",
        "\n"
      ],
      "execution_count": 33,
      "outputs": [
        {
          "output_type": "stream",
          "text": [
            "dict_keys(['A', 'B', 'C', 'D']) \n",
            "\n",
            "\n",
            "  col1 col2 col3     col4 col5\n",
            "0  1.1    A  1.1    x/y/z    1\n",
            "1  1.1    A  1.7      x/y    3\n",
            "2  1.1    A  2.5  x/y/z/n    3\n",
            "7  2.6    A  4.2        x    3\n",
            "\n",
            "\n",
            "\n",
            "Data type of ds.get_group('A') is:- <class 'pandas.core.frame.DataFrame'>\n",
            "\n",
            "\n",
            "\n",
            "Using the same indices as the original dataframe for rows corresponding to key 'A':-\n",
            "\n",
            "  col1 col2 col3     col4 col5\n",
            "0  1.1    A  1.1    x/y/z    1\n",
            "1  1.1    A  1.7      x/y    3\n",
            "2  1.1    A  2.5  x/y/z/n    3\n",
            "7  2.6    A  4.2        x    3\n",
            "\n",
            "\n",
            "\n",
            "After using the reset_index() method, new column 'index' being created:-\n",
            "\n",
            "   index col1 col2 col3     col4 col5\n",
            "0      0  1.1    A  1.1    x/y/z    1\n",
            "1      1  1.1    A  1.7      x/y    3\n",
            "2      2  1.1    A  2.5  x/y/z/n    3\n",
            "3      7  2.6    A  4.2        x    3 \n",
            "\n",
            "\n",
            "Drop this new 'index' column with:-\n",
            " \n",
            "  col1 col2 col3     col4 col5\n",
            "0  1.1    A  1.1    x/y/z    1\n",
            "1  1.1    A  1.7      x/y    3\n",
            "2  1.1    A  2.5  x/y/z/n    3\n",
            "3  2.6    A  4.2        x    3\n"
          ],
          "name": "stdout"
        }
      ]
    },
    {
      "cell_type": "code",
      "metadata": {
        "id": "dCUpe-p2f0q8",
        "colab_type": "code",
        "colab": {
          "base_uri": "https://localhost:8080/",
          "height": 527
        },
        "outputId": "8dc67309-254f-4e20-d797-83d3cd11eb20"
      },
      "source": [
        "#Now using the for loop:-\n",
        "\n",
        "for key, grp in ds:\n",
        "  print('The key for below dataframe is:- ',key)\n",
        "  print(ds.get_group(key).reset_index().drop(['index'],axis=1),'\\n\\n')\n"
      ],
      "execution_count": 39,
      "outputs": [
        {
          "output_type": "stream",
          "text": [
            "The key for below dataframe is:-  A\n",
            "  col1 col2 col3     col4 col5\n",
            "0  1.1    A  1.1    x/y/z    1\n",
            "1  1.1    A  1.7      x/y    3\n",
            "2  1.1    A  2.5  x/y/z/n    3\n",
            "3  2.6    A  4.2        x    3 \n",
            "\n",
            "\n",
            "The key for below dataframe is:-  B\n",
            "  col1 col2 col3     col4 col5\n",
            "0  2.6    B  2.6      x/u    2\n",
            "1  2.5    B  3.3        x    4\n",
            "2  3.4    B  3.8    x/u/v    2\n",
            "3  2.6    B    4    x/y/z    5\n",
            "4  3.4    B  4.3  x/u/v/b    6\n",
            "5  2.6    B  4.6      x/y    5 \n",
            "\n",
            "\n",
            "The key for below dataframe is:-  C\n",
            "  col1 col2 col3 col4 col5\n",
            "0  3.4    C  4.5    -    3 \n",
            "\n",
            "\n",
            "The key for below dataframe is:-  D\n",
            "  col1 col2 col3     col4 col5\n",
            "0  1.1    D  4.7    x/y/z    1\n",
            "1  1.1    D  4.7        x    1\n",
            "2  3.3    D  4.8  x/u/v/w    1 \n",
            "\n",
            "\n"
          ],
          "name": "stdout"
        }
      ]
    },
    {
      "cell_type": "markdown",
      "metadata": {
        "id": "9CvWfApClslD",
        "colab_type": "text"
      },
      "source": [
        "Now we will groupby on 2 columns and consequetively see the aggregations on other columns"
      ]
    },
    {
      "cell_type": "code",
      "metadata": {
        "id": "8Q0aTGWtf0w9",
        "colab_type": "code",
        "colab": {
          "base_uri": "https://localhost:8080/",
          "height": 493
        },
        "outputId": "74051b7c-f557-4302-81f9-07771264de62"
      },
      "source": [
        "#Observe the difference between grouping on ['col5','col2'] and ['col2','col5']\n",
        "\n",
        "ds1=df.groupby(['col5','col2'])\n",
        "ds2=df.groupby(['col2','col5'])\n",
        "\n",
        "print(ds1.describe(),'\\n\\n')\n",
        "print(ds2.describe())"
      ],
      "execution_count": 41,
      "outputs": [
        {
          "output_type": "stream",
          "text": [
            "           col1                   col3  ...       col4                     \n",
            "          count unique  top freq count  ... freq count unique      top freq\n",
            "col5 col2                               ...                                \n",
            "1    A      1.0    1.0  1.1  1.0   1.0  ...  1.0     1      1    x/y/z    1\n",
            "     D      3.0    2.0  1.1  2.0   3.0  ...  2.0     3      3  x/u/v/w    1\n",
            "2    B      2.0    2.0  3.4  1.0   2.0  ...  1.0     2      2      x/u    1\n",
            "3    A      3.0    2.0  1.1  2.0   3.0  ...  1.0     3      3      x/y    1\n",
            "     C      1.0    1.0  3.4  1.0   1.0  ...  1.0     1      1        -    1\n",
            "4    B      1.0    1.0  2.5  1.0   1.0  ...  1.0     1      1        x    1\n",
            "5    B      2.0    1.0  2.6  2.0   2.0  ...  1.0     2      2      x/y    1\n",
            "6    B      1.0    1.0  3.4  1.0   1.0  ...  1.0     1      1  x/u/v/b    1\n",
            "\n",
            "[8 rows x 12 columns] \n",
            "\n",
            "\n",
            "           col1                   col3  ...       col4                     \n",
            "          count unique  top freq count  ... freq count unique      top freq\n",
            "col2 col5                               ...                                \n",
            "A    1      1.0    1.0  1.1  1.0   1.0  ...  1.0     1      1    x/y/z    1\n",
            "     3      3.0    2.0  1.1  2.0   3.0  ...  1.0     3      3      x/y    1\n",
            "B    2      2.0    2.0  3.4  1.0   2.0  ...  1.0     2      2      x/u    1\n",
            "     4      1.0    1.0  2.5  1.0   1.0  ...  1.0     1      1        x    1\n",
            "     5      2.0    1.0  2.6  2.0   2.0  ...  1.0     2      2      x/y    1\n",
            "     6      1.0    1.0  3.4  1.0   1.0  ...  1.0     1      1  x/u/v/b    1\n",
            "C    3      1.0    1.0  3.4  1.0   1.0  ...  1.0     1      1        -    1\n",
            "D    1      3.0    2.0  1.1  2.0   3.0  ...  2.0     3      3  x/u/v/w    1\n",
            "\n",
            "[8 rows x 12 columns]\n"
          ],
          "name": "stdout"
        }
      ]
    },
    {
      "cell_type": "code",
      "metadata": {
        "id": "W_4cNWfdf00t",
        "colab_type": "code",
        "colab": {
          "base_uri": "https://localhost:8080/",
          "height": 799
        },
        "outputId": "7c831dd5-8aab-4002-e52e-efa07d14acdd"
      },
      "source": [
        "for key, grp in ds1:\n",
        "  print(f'The dataframe for {key} key is:-')\n",
        "  print(grp.reset_index().drop(['index'],axis=1),'\\n\\n') #here we can also do ds1(key).reset_index()...."
      ],
      "execution_count": 44,
      "outputs": [
        {
          "output_type": "stream",
          "text": [
            "The dataframe for ('1', 'A') key is:-\n",
            "  col1 col2 col3   col4 col5\n",
            "0  1.1    A  1.1  x/y/z    1 \n",
            "\n",
            "\n",
            "The dataframe for ('1', 'D') key is:-\n",
            "  col1 col2 col3     col4 col5\n",
            "0  1.1    D  4.7    x/y/z    1\n",
            "1  1.1    D  4.7        x    1\n",
            "2  3.3    D  4.8  x/u/v/w    1 \n",
            "\n",
            "\n",
            "The dataframe for ('2', 'B') key is:-\n",
            "  col1 col2 col3   col4 col5\n",
            "0  2.6    B  2.6    x/u    2\n",
            "1  3.4    B  3.8  x/u/v    2 \n",
            "\n",
            "\n",
            "The dataframe for ('3', 'A') key is:-\n",
            "  col1 col2 col3     col4 col5\n",
            "0  1.1    A  1.7      x/y    3\n",
            "1  1.1    A  2.5  x/y/z/n    3\n",
            "2  2.6    A  4.2        x    3 \n",
            "\n",
            "\n",
            "The dataframe for ('3', 'C') key is:-\n",
            "  col1 col2 col3 col4 col5\n",
            "0  3.4    C  4.5    -    3 \n",
            "\n",
            "\n",
            "The dataframe for ('4', 'B') key is:-\n",
            "  col1 col2 col3 col4 col5\n",
            "0  2.5    B  3.3    x    4 \n",
            "\n",
            "\n",
            "The dataframe for ('5', 'B') key is:-\n",
            "  col1 col2 col3   col4 col5\n",
            "0  2.6    B    4  x/y/z    5\n",
            "1  2.6    B  4.6    x/y    5 \n",
            "\n",
            "\n",
            "The dataframe for ('6', 'B') key is:-\n",
            "  col1 col2 col3     col4 col5\n",
            "0  3.4    B  4.3  x/u/v/b    6 \n",
            "\n",
            "\n"
          ],
          "name": "stdout"
        }
      ]
    },
    {
      "cell_type": "code",
      "metadata": {
        "id": "O7vp180vf0u8",
        "colab_type": "code",
        "colab": {
          "base_uri": "https://localhost:8080/",
          "height": 799
        },
        "outputId": "b58b6df5-cc43-44b4-92a3-1bb5abe7b2bd"
      },
      "source": [
        "for key, grp in ds2:\n",
        "  print(f'The dataframe for {key} key is:-')\n",
        "  print(grp.reset_index().drop(['index'],axis=1),'\\n\\n') #here we can also do ds2(key).reset_index()...."
      ],
      "execution_count": 45,
      "outputs": [
        {
          "output_type": "stream",
          "text": [
            "The dataframe for ('A', '1') key is:-\n",
            "  col1 col2 col3   col4 col5\n",
            "0  1.1    A  1.1  x/y/z    1 \n",
            "\n",
            "\n",
            "The dataframe for ('A', '3') key is:-\n",
            "  col1 col2 col3     col4 col5\n",
            "0  1.1    A  1.7      x/y    3\n",
            "1  1.1    A  2.5  x/y/z/n    3\n",
            "2  2.6    A  4.2        x    3 \n",
            "\n",
            "\n",
            "The dataframe for ('B', '2') key is:-\n",
            "  col1 col2 col3   col4 col5\n",
            "0  2.6    B  2.6    x/u    2\n",
            "1  3.4    B  3.8  x/u/v    2 \n",
            "\n",
            "\n",
            "The dataframe for ('B', '4') key is:-\n",
            "  col1 col2 col3 col4 col5\n",
            "0  2.5    B  3.3    x    4 \n",
            "\n",
            "\n",
            "The dataframe for ('B', '5') key is:-\n",
            "  col1 col2 col3   col4 col5\n",
            "0  2.6    B    4  x/y/z    5\n",
            "1  2.6    B  4.6    x/y    5 \n",
            "\n",
            "\n",
            "The dataframe for ('B', '6') key is:-\n",
            "  col1 col2 col3     col4 col5\n",
            "0  3.4    B  4.3  x/u/v/b    6 \n",
            "\n",
            "\n",
            "The dataframe for ('C', '3') key is:-\n",
            "  col1 col2 col3 col4 col5\n",
            "0  3.4    C  4.5    -    3 \n",
            "\n",
            "\n",
            "The dataframe for ('D', '1') key is:-\n",
            "  col1 col2 col3     col4 col5\n",
            "0  1.1    D  4.7    x/y/z    1\n",
            "1  1.1    D  4.7        x    1\n",
            "2  3.3    D  4.8  x/u/v/w    1 \n",
            "\n",
            "\n"
          ],
          "name": "stdout"
        }
      ]
    },
    {
      "cell_type": "code",
      "metadata": {
        "id": "3In4bSYLngeH",
        "colab_type": "code",
        "colab": {
          "base_uri": "https://localhost:8080/",
          "height": 34
        },
        "outputId": "882362c8-93cb-46fa-acd9-3f0797eb9db5"
      },
      "source": [
        "#Thing is, it matters if we are using col2 before col5. It will groupby by col2 first and then groupby by col5. Reverse thing if we groupby by col5 first and then  col2\n",
        "\n",
        "\n",
        "\n",
        "\n",
        "\n",
        "#Now use the aggregate functions (say 'count' funcion) for col1(say)\n",
        "\n",
        "#We cannot access the col1 by simply doing ds1['col1']. It will throw a series groupby object related to col1\n",
        "ds1['col1']\n"
      ],
      "execution_count": 48,
      "outputs": [
        {
          "output_type": "execute_result",
          "data": {
            "text/plain": [
              "<pandas.core.groupby.generic.SeriesGroupBy object at 0x7f79f7215c50>"
            ]
          },
          "metadata": {
            "tags": []
          },
          "execution_count": 48
        }
      ]
    },
    {
      "cell_type": "code",
      "metadata": {
        "id": "iyUCXs4Nnhak",
        "colab_type": "code",
        "colab": {
          "base_uri": "https://localhost:8080/",
          "height": 34
        },
        "outputId": "0b023cc6-dc57-4881-d6fc-32f8793d3695"
      },
      "source": [
        "#we can just access the value of col1 corresponding to some key in ds1 groupby object. Like below\n",
        "ds1.get_group(('1','A')).col1.to_list()[0]"
      ],
      "execution_count": 58,
      "outputs": [
        {
          "output_type": "execute_result",
          "data": {
            "text/plain": [
              "1.1"
            ]
          },
          "metadata": {
            "tags": []
          },
          "execution_count": 58
        }
      ]
    },
    {
      "cell_type": "code",
      "metadata": {
        "id": "UBtlqnDcnhxQ",
        "colab_type": "code",
        "colab": {
          "base_uri": "https://localhost:8080/",
          "height": 255
        },
        "outputId": "489cc5ad-2f5b-4b90-def9-981737a72e5e"
      },
      "source": [
        "#Or, we can use count() method for col1 under ds1 groupby object to get count of col1 under each key (col2, col5)\n",
        "\n",
        "print(ds1.col1.count())\n",
        "print('\\n\\n')\n",
        "print(type(ds1.col1.count()))# observe the datatype"
      ],
      "execution_count": 61,
      "outputs": [
        {
          "output_type": "stream",
          "text": [
            "col5  col2\n",
            "1     A       1\n",
            "      D       3\n",
            "2     B       2\n",
            "3     A       3\n",
            "      C       1\n",
            "4     B       1\n",
            "5     B       2\n",
            "6     B       1\n",
            "Name: col1, dtype: int64\n",
            "\n",
            "\n",
            "\n",
            "<class 'pandas.core.series.Series'>\n"
          ],
          "name": "stdout"
        }
      ]
    },
    {
      "cell_type": "code",
      "metadata": {
        "id": "vgjCUoEznh8X",
        "colab_type": "code",
        "colab": {
          "base_uri": "https://localhost:8080/",
          "height": 187
        },
        "outputId": "60cc6884-9e8a-4ba1-829c-b8e2d1267e19"
      },
      "source": [
        "#We can use the reset_index() method to get a dataframe like below:-\n",
        "\n",
        "print(ds1.col1.count().reset_index())\n",
        "print(type(ds1.col1.count().reset_index()))#now observe the datatype of the this object. It is clearly different from output of above cell!!"
      ],
      "execution_count": 63,
      "outputs": [
        {
          "output_type": "stream",
          "text": [
            "  col5 col2  col1\n",
            "0    1    A     1\n",
            "1    1    D     3\n",
            "2    2    B     2\n",
            "3    3    A     3\n",
            "4    3    C     1\n",
            "5    4    B     1\n",
            "6    5    B     2\n",
            "7    6    B     1\n",
            "<class 'pandas.core.frame.DataFrame'>\n"
          ],
          "name": "stdout"
        }
      ]
    },
    {
      "cell_type": "code",
      "metadata": {
        "id": "52ruoavLnh-L",
        "colab_type": "code",
        "colab": {}
      },
      "source": [
        "#See the link \"https://stackoverflow.com/questions/17679089/pandas-dataframe-groupby-two-columns-and-get-counts\" for use of size() method "
      ],
      "execution_count": null,
      "outputs": []
    },
    {
      "cell_type": "code",
      "metadata": {
        "id": "NxUXcB-sniAH",
        "colab_type": "code",
        "colab": {}
      },
      "source": [
        ""
      ],
      "execution_count": null,
      "outputs": []
    },
    {
      "cell_type": "code",
      "metadata": {
        "id": "MhteCyhnniFi",
        "colab_type": "code",
        "colab": {}
      },
      "source": [
        ""
      ],
      "execution_count": null,
      "outputs": []
    },
    {
      "cell_type": "code",
      "metadata": {
        "id": "hLofUMnPniPO",
        "colab_type": "code",
        "colab": {}
      },
      "source": [
        ""
      ],
      "execution_count": null,
      "outputs": []
    },
    {
      "cell_type": "code",
      "metadata": {
        "id": "kb2JmB_oniZP",
        "colab_type": "code",
        "colab": {}
      },
      "source": [
        ""
      ],
      "execution_count": null,
      "outputs": []
    },
    {
      "cell_type": "code",
      "metadata": {
        "id": "gJrskPxKniVs",
        "colab_type": "code",
        "colab": {}
      },
      "source": [
        ""
      ],
      "execution_count": null,
      "outputs": []
    },
    {
      "cell_type": "code",
      "metadata": {
        "id": "Fq5tDhIbniTo",
        "colab_type": "code",
        "colab": {}
      },
      "source": [
        ""
      ],
      "execution_count": null,
      "outputs": []
    },
    {
      "cell_type": "code",
      "metadata": {
        "id": "IATJKFRCniSR",
        "colab_type": "code",
        "colab": {}
      },
      "source": [
        ""
      ],
      "execution_count": null,
      "outputs": []
    },
    {
      "cell_type": "code",
      "metadata": {
        "id": "0arz3ybBniMj",
        "colab_type": "code",
        "colab": {}
      },
      "source": [
        ""
      ],
      "execution_count": null,
      "outputs": []
    },
    {
      "cell_type": "code",
      "metadata": {
        "id": "TF4cB_1PniLe",
        "colab_type": "code",
        "colab": {}
      },
      "source": [
        ""
      ],
      "execution_count": null,
      "outputs": []
    },
    {
      "cell_type": "code",
      "metadata": {
        "id": "hB9a9a8AniCK",
        "colab_type": "code",
        "colab": {}
      },
      "source": [
        ""
      ],
      "execution_count": null,
      "outputs": []
    },
    {
      "cell_type": "code",
      "metadata": {
        "id": "tFZUyjRvnh3W",
        "colab_type": "code",
        "colab": {}
      },
      "source": [
        ""
      ],
      "execution_count": null,
      "outputs": []
    },
    {
      "cell_type": "code",
      "metadata": {
        "id": "i0fKR4U9nhof",
        "colab_type": "code",
        "colab": {}
      },
      "source": [
        ""
      ],
      "execution_count": null,
      "outputs": []
    },
    {
      "cell_type": "code",
      "metadata": {
        "id": "9AkNQW1WnhFa",
        "colab_type": "code",
        "colab": {}
      },
      "source": [
        ""
      ],
      "execution_count": null,
      "outputs": []
    },
    {
      "cell_type": "code",
      "metadata": {
        "id": "nWPSIUHengnS",
        "colab_type": "code",
        "colab": {}
      },
      "source": [
        ""
      ],
      "execution_count": null,
      "outputs": []
    },
    {
      "cell_type": "code",
      "metadata": {
        "id": "vFG3xryzngjj",
        "colab_type": "code",
        "colab": {}
      },
      "source": [
        ""
      ],
      "execution_count": null,
      "outputs": []
    },
    {
      "cell_type": "code",
      "metadata": {
        "id": "hgSGtDQyngh3",
        "colab_type": "code",
        "colab": {}
      },
      "source": [
        ""
      ],
      "execution_count": null,
      "outputs": []
    },
    {
      "cell_type": "code",
      "metadata": {
        "id": "nSTlc_Xgf0pW",
        "colab_type": "code",
        "colab": {}
      },
      "source": [
        ""
      ],
      "execution_count": null,
      "outputs": []
    }
  ]
}